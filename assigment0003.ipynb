{
  "nbformat": 4,
  "nbformat_minor": 0,
  "metadata": {
    "colab": {
      "provenance": []
    },
    "kernelspec": {
      "name": "python3",
      "display_name": "Python 3"
    },
    "language_info": {
      "name": "python"
    }
  },
  "cells": [
    {
      "cell_type": "code",
      "execution_count": null,
      "metadata": {
        "colab": {
          "base_uri": "https://localhost:8080/"
        },
        "id": "qxwF7vW9x-eH",
        "outputId": "a2e9cd2f-1cf9-4ace-8a3d-9bd3c91e7272"
      },
      "outputs": [
        {
          "output_type": "stream",
          "name": "stdout",
          "text": [
            "ACAGTCGACTA\n",
            "3\n",
            "2\n",
            "11\n",
            "45.45454545454545\n"
          ]
        }
      ],
      "source": [
        "# quesion 1\n",
        "seq1 = [\"ACAGTCGACTA\"]\n",
        "seq1_str =  seq1[0]\n",
        "print(seq1_str)\n",
        "c_content = seq1_str.count(\"C\")\n",
        "g_content= seq1_str.count(\"G\")\n",
        "print(c_content)\n",
        "print(g_content)\n",
        "length_seq1_str= len(seq1_str)\n",
        "print(length_seq1_str)\n",
        "cg_content = (c_content + g_content)/len(seq1_str)*100\n",
        "print(cg_content)\n",
        "\n"
      ]
    },
    {
      "cell_type": "code",
      "source": [
        "#question2\n",
        "rna_seq1 = seq1_str.replace(\"T\",\"U\")\n",
        "print(rna_seq1)\n",
        "\n"
      ],
      "metadata": {
        "colab": {
          "base_uri": "https://localhost:8080/"
        },
        "id": "l0_PnvK5yi4I",
        "outputId": "240631ce-068f-489c-f83c-18ceef843775"
      },
      "execution_count": null,
      "outputs": [
        {
          "output_type": "stream",
          "name": "stdout",
          "text": [
            "ACAGUCGACUA\n"
          ]
        }
      ]
    },
    {
      "cell_type": "code",
      "source": [
        "#question 3\n",
        "n_codons = len(rna_seq1)//3\n",
        "print(n_codons)\n",
        "n_remainder = len(rna_seq1)%3\n",
        "print(n_remainder)\n",
        "\n",
        "codons = [rna_seq1[i:i+3] for i in range(0, len(rna_seq1), 3)]\n",
        "print(codons)\n",
        "# we have three amino acid( each contain 3 nucleotides)and remainder 2 nucleotides\n",
        "#(ACA\t,Threonine(Thr)),(GUC,valine (val)),GAC\tAspartate (Asp))"
      ],
      "metadata": {
        "colab": {
          "base_uri": "https://localhost:8080/"
        },
        "id": "A4DfYL2F5psE",
        "outputId": "56dea861-13de-4ef4-f380-c59804edd7c0"
      },
      "execution_count": null,
      "outputs": [
        {
          "output_type": "stream",
          "name": "stdout",
          "text": [
            "3\n",
            "2\n",
            "['ACA', 'GUC', 'GAC', 'UA']\n"
          ]
        }
      ]
    },
    {
      "cell_type": "code",
      "source": [
        "#question 4\n",
        "first_T= seq1_str.find(\"T\")\n",
        "print(first_T)\n",
        "#using .find to output the first nucleotide"
      ],
      "metadata": {
        "colab": {
          "base_uri": "https://localhost:8080/"
        },
        "id": "Uw_CDllVB4Qy",
        "outputId": "e9a1ba6f-c1ea-4725-aad4-113d56dd3562"
      },
      "execution_count": null,
      "outputs": [
        {
          "output_type": "stream",
          "name": "stdout",
          "text": [
            "4\n"
          ]
        }
      ]
    },
    {
      "cell_type": "code",
      "source": [
        "#questio 5\n",
        "seq=\"ACAGTCGACTA\"\n",
        "new_seq = seq[:0] + seq[1:]\n",
        "print(new_seq)\n",
        "new_seq2 = new_seq[:9]+ new_seq[10:]\n",
        "print(new_seq2)\n",
        "seq=[print(new_seq2)]\n",
        "seq_m = new_seq2 + \"G\"\n",
        "print(seq_m)\n",
        "final_seq = \"G\"+seq_m\n",
        "print(final_seq)"
      ],
      "metadata": {
        "colab": {
          "base_uri": "https://localhost:8080/"
        },
        "id": "0kFyXWqfDjvB",
        "outputId": "4b837a86-25e7-4b98-f655-860fe0adadc2"
      },
      "execution_count": null,
      "outputs": [
        {
          "output_type": "stream",
          "name": "stdout",
          "text": [
            "CAGTCGACTA\n",
            "CAGTCGACT\n",
            "CAGTCGACT\n",
            "CAGTCGACTG\n",
            "GCAGTCGACTG\n"
          ]
        }
      ]
    },
    {
      "cell_type": "code",
      "source": [
        "g1 = ['MIF', 'P14174', 'APP', 'P05067', 'APLP1', 'P51693', 'APLP2', 'Q06481']\n",
        "print(g1)\n",
        "\n",
        "iteration = len(g1)\n",
        "print(iteration)\n",
        "\n",
        "for i in range(0, iteration, 2):\n",
        "  g=f\"{g1[i]}-{g1[i+1]}\"\n",
        "  print(g)\n",
        "g2= [print(g)]"
      ],
      "metadata": {
        "id": "bxS19Q2Rc0Xm",
        "colab": {
          "base_uri": "https://localhost:8080/"
        },
        "outputId": "d694bb44-95a4-4fce-fab3-c10e02480eb1"
      },
      "execution_count": null,
      "outputs": [
        {
          "output_type": "stream",
          "name": "stdout",
          "text": [
            "['MIF', 'P14174', 'APP', 'P05067', 'APLP1', 'P51693', 'APLP2', 'Q06481']\n",
            "8\n",
            "MIF-P14174\n",
            "APP-P05067\n",
            "APLP1-P51693\n",
            "APLP2-Q06481\n",
            "APLP2-Q06481\n"
          ]
        }
      ]
    },
    {
      "cell_type": "code",
      "source": [
        "# part c\n",
        "ids={}\n",
        "ids['UUC']=(\"F,Phenylalanine\")\n",
        "ids[\"UCA\"]=('S,Serine')\n",
        "ids[\"CUG\"]=('L,Leucine')\n",
        "ids[\"GGA\"]=('G,Glycine')\n",
        "ids[\"AAC\"]=('N,Asparagine')\n",
        "\n",
        "print(ids)\n",
        "codon = list(ids.keys())\n",
        "print(codon)\n"
      ],
      "metadata": {
        "id": "8skm_kEszee8",
        "colab": {
          "base_uri": "https://localhost:8080/"
        },
        "outputId": "23cb7235-69bf-46ae-cdff-f73aa5d645f0"
      },
      "execution_count": 4,
      "outputs": [
        {
          "output_type": "stream",
          "name": "stdout",
          "text": [
            "{'UUC': 'F,Phenylalanine', 'UCA': 'S,Serine', 'CUG': 'L,Leucine', 'GGA': 'G,Glycine', 'AAC': 'N,Asparagine'}\n",
            "['UUC', 'UCA', 'CUG', 'GGA', 'AAC']\n"
          ]
        }
      ]
    },
    {
      "cell_type": "code",
      "source": [
        "codons = [\"CUG\", \"AAC\", \"UUC\", \"CUG\", \"UUC\", \"UCA\", \"AAC\"]\n",
        "\n",
        "amino_acids = [ids[codon][0] for codon in codons]\n",
        "\n",
        "\n",
        "print(amino_acids)"
      ],
      "metadata": {
        "colab": {
          "base_uri": "https://localhost:8080/"
        },
        "id": "VNrig3ML44DM",
        "outputId": "a4a8b04e-5828-468c-8628-0c52192691cf"
      },
      "execution_count": 5,
      "outputs": [
        {
          "output_type": "stream",
          "name": "stdout",
          "text": [
            "['L', 'N', 'F', 'L', 'F', 'S', 'N']\n"
          ]
        }
      ]
    },
    {
      "cell_type": "code",
      "source": [
        "amino_acids = [ids[codon][0] for codon in codons if \"C\" not in codon[-1]]\n",
        "print(amino_acids)"
      ],
      "metadata": {
        "colab": {
          "base_uri": "https://localhost:8080/"
        },
        "id": "1_qxlMIn5Ey3",
        "outputId": "3b9ef355-21c7-4092-bfcd-fe7145d6753d"
      },
      "execution_count": 7,
      "outputs": [
        {
          "output_type": "stream",
          "name": "stdout",
          "text": [
            "['L', 'L', 'S']\n"
          ]
        }
      ]
    },
    {
      "cell_type": "code",
      "source": [
        "amino_acids = []\n",
        "\n",
        "iteration = len(codons)\n",
        "i = 0\n",
        "while i < iteration:\n",
        "    amino_acids.append(ids[codons[i]][0])\n",
        "    i += 1\n",
        "\n",
        "print(amino_acids)\n"
      ],
      "metadata": {
        "colab": {
          "base_uri": "https://localhost:8080/"
        },
        "id": "3lQPuxkP6YVp",
        "outputId": "9b28be5c-219c-4155-cc5e-15e9b8e63591"
      },
      "execution_count": 10,
      "outputs": [
        {
          "output_type": "stream",
          "name": "stdout",
          "text": [
            "['L', 'N', 'F', 'L', 'F', 'S', 'N']\n"
          ]
        }
      ]
    },
    {
      "cell_type": "code",
      "source": [
        "amino_acids = []\n",
        "\n",
        "\n",
        "for codon in codons:\n",
        "    if not codon.endswith(\"C\"):\n",
        "        amino_acids.append(ids[codon][0])\n",
        "\n",
        "print(amino_acids)"
      ],
      "metadata": {
        "colab": {
          "base_uri": "https://localhost:8080/"
        },
        "id": "SbDq1fRfACqW",
        "outputId": "8415bd4e-3d32-4f9c-d1b8-264ba90dc21c"
      },
      "execution_count": 11,
      "outputs": [
        {
          "output_type": "stream",
          "name": "stdout",
          "text": [
            "['L', 'L', 'S']\n"
          ]
        }
      ]
    }
  ]
}